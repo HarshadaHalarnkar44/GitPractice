{
 "cells": [
  {
   "cell_type": "markdown",
   "id": "203e83bc",
   "metadata": {},
   "source": [
    "1. Input a number and print out its square."
   ]
  },
  {
   "cell_type": "code",
   "execution_count": 36,
   "id": "d03013da",
   "metadata": {},
   "outputs": [
    {
     "name": "stdout",
     "output_type": "stream",
     "text": [
      "Enter the number:4\n",
      "16\n"
     ]
    }
   ],
   "source": [
    "num=int(input(\"Enter the number:\"))\n",
    "num=num**2\n",
    "print(num)"
   ]
  },
  {
   "cell_type": "markdown",
   "id": "51a6b96c",
   "metadata": {},
   "source": [
    "2. Input whether someone passed or not and output a congratulatory message if they did."
   ]
  },
  {
   "cell_type": "code",
   "execution_count": 37,
   "id": "d5a8a209",
   "metadata": {},
   "outputs": [
    {
     "name": "stdout",
     "output_type": "stream",
     "text": [
      "Enter marks in English out of 100:49\n",
      "Enter marks in Maths out of 100:21\n",
      "Enter marks in Science out of 100:90\n",
      "Congratulations, you have passed.\n"
     ]
    }
   ],
   "source": [
    "#Passing percentage is 45% and above\n",
    "sub1=int(input(\"Enter marks in English out of 100:\"))\n",
    "sub2=int(input(\"Enter marks in Maths out of 100:\"))\n",
    "sub3=int(input(\"Enter marks in Science out of 100:\"))\n",
    "pctg=(sub1+sub2+sub3)/300*100\n",
    "if pctg>=45:\n",
    "    print(\"Congratulations, you have passed.\")"
   ]
  },
  {
   "cell_type": "markdown",
   "id": "7c263644",
   "metadata": {},
   "source": [
    "3. Print out all vowels in an input expression"
   ]
  },
  {
   "cell_type": "code",
   "execution_count": 39,
   "id": "98dbb797",
   "metadata": {},
   "outputs": [
    {
     "name": "stdout",
     "output_type": "stream",
     "text": [
      "Enter the expression:Hi manyyuuuuuio\n",
      "The vowels are as follows:\n",
      "i\n",
      "a\n",
      "u\n",
      "u\n",
      "u\n",
      "u\n",
      "u\n",
      "i\n",
      "o\n"
     ]
    }
   ],
   "source": [
    "string=input(\"Enter the expression:\")\n",
    "print(\"The vowels are as follows:\")\n",
    "for i in string:\n",
    "    if i=='a' or i=='e' or i=='i' or i=='o' or i=='u' or i=='A' or i=='E' or i=='I' or i=='O' or i=='U':\n",
    "        print(i)"
   ]
  },
  {
   "cell_type": "markdown",
   "id": "288e16cc",
   "metadata": {},
   "source": [
    "4. Create a list [1, 2, 3]. Append [“Apple”, “Banana”] to it. Now remove “Apple” and add “Grape” in its place."
   ]
  },
  {
   "cell_type": "code",
   "execution_count": 40,
   "id": "d3b65971",
   "metadata": {},
   "outputs": [
    {
     "name": "stdout",
     "output_type": "stream",
     "text": [
      "[1, 2, 3, 'Grape', 'Banana']\n"
     ]
    }
   ],
   "source": [
    "mix=[1,2,3]\n",
    "mix.append(\"Apple\")\n",
    "mix.append(\"Banana\")\n",
    "mix.remove(\"Apple\")\n",
    "mix.insert(3,\"Grape\")\n",
    "print(mix)"
   ]
  },
  {
   "cell_type": "markdown",
   "id": "024e7a3f",
   "metadata": {},
   "source": [
    "5. Input a number and print out all factors (prime and composite) of this number."
   ]
  },
  {
   "cell_type": "code",
   "execution_count": 41,
   "id": "b6926942",
   "metadata": {},
   "outputs": [
    {
     "name": "stdout",
     "output_type": "stream",
     "text": [
      "Enter the number:56\n",
      "The factor/s are as follows\n",
      "1\n",
      "2\n",
      "4\n",
      "7\n",
      "8\n",
      "14\n",
      "28\n"
     ]
    }
   ],
   "source": [
    "num=int(input(\"Enter the number:\"))\n",
    "print(\"The factor/s are as follows\")\n",
    "for i in range(1,num,1):\n",
    "    if num%i==0:\n",
    "        print(i)"
   ]
  },
  {
   "cell_type": "markdown",
   "id": "101f8235",
   "metadata": {},
   "source": [
    "6. Input a number and output whether it is a perfect square or not"
   ]
  },
  {
   "cell_type": "code",
   "execution_count": 42,
   "id": "7b7188ec",
   "metadata": {},
   "outputs": [
    {
     "name": "stdout",
     "output_type": "stream",
     "text": [
      "Enter the number:45\n",
      "It is not a perfect square.\n"
     ]
    }
   ],
   "source": [
    "num=int(input(\"Enter the number:\"))\n",
    "count=0\n",
    "for i in range(1,num,1):\n",
    "    if i*i==num:\n",
    "        count=1\n",
    "        print(\"It is a perfect square.\")\n",
    "        break\n",
    "if count==0:\n",
    "    print(\"It is not a perfect square.\")"
   ]
  }
 ],
 "metadata": {
  "kernelspec": {
   "display_name": "Python 3",
   "language": "python",
   "name": "python3"
  },
  "language_info": {
   "codemirror_mode": {
    "name": "ipython",
    "version": 3
   },
   "file_extension": ".py",
   "mimetype": "text/x-python",
   "name": "python",
   "nbconvert_exporter": "python",
   "pygments_lexer": "ipython3",
   "version": "3.8.8"
  }
 },
 "nbformat": 4,
 "nbformat_minor": 5
}
